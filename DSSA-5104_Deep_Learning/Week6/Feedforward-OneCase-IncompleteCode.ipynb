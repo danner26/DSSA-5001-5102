{
 "cells": [
  {
   "cell_type": "code",
   "execution_count": 2,
   "metadata": {},
   "outputs": [
    {
     "name": "stdout",
     "output_type": "stream",
     "text": [
      "Starting ...\n"
     ]
    },
    {
     "ename": "NameError",
     "evalue": "name 'weights_1' is not defined",
     "output_type": "error",
     "traceback": [
      "\u001b[1;31m---------------------------------------------------------------------------\u001b[0m",
      "\u001b[1;31mNameError\u001b[0m                                 Traceback (most recent call last)",
      "\u001b[1;32m<ipython-input-2-8a6832ba0d50>\u001b[0m in \u001b[0;36m<module>\u001b[1;34m\u001b[0m\n\u001b[0;32m     28\u001b[0m \u001b[1;33m\u001b[0m\u001b[0m\n\u001b[0;32m     29\u001b[0m \u001b[1;33m\u001b[0m\u001b[0m\n\u001b[1;32m---> 30\u001b[1;33m Targets_Predicted = feed_forward(features,weights_1,biases_1,\n\u001b[0m\u001b[0;32m     31\u001b[0m                                       \u001b[0mweights_2\u001b[0m\u001b[1;33m,\u001b[0m\u001b[0mbiases_2\u001b[0m\u001b[1;33m,\u001b[0m\u001b[1;33m\u001b[0m\u001b[1;33m\u001b[0m\u001b[0m\n\u001b[0;32m     32\u001b[0m                                       weights_3,biases_3)\n",
      "\u001b[1;31mNameError\u001b[0m: name 'weights_1' is not defined"
     ]
    }
   ],
   "source": [
    "import numpy as np\n",
    "\n",
    "\n",
    "def feed_forward(features,w1,b1,w2,b2,w3,b3):\n",
    "    \n",
    "# You should write your target code function in this space\n",
    "#====================================================\n",
    "\n",
    "    return targets_predicted\n",
    "\n",
    "#=====================================================\n",
    "    \n",
    "print('Starting ...')\n",
    "\n",
    "## Set up training data with just one case\n",
    "\n",
    "features = np.array([[0], \n",
    "                     [0], \n",
    "                     [0], \n",
    "                     [0], \n",
    "                     [0]])\n",
    "targets_observed = np.array([0,1])\n",
    "number_of_features,number_of_cases = 5,1\n",
    "    \n",
    "#Set initial weights and biases\n",
    "# You need to do this\n",
    "    \n",
    "\n",
    "\n",
    "Targets_Predicted = feed_forward(features,weights_1,biases_1,\n",
    "                                      weights_2,biases_2,\n",
    "                                      weights_3,biases_3)\n",
    "\n",
    "print('Features : ',features)\n",
    "print(' Targets : ', targets_observed)\n",
    "print(' Targets predicted : ', Targets_Predicted)\n",
    "    \n",
    "# Call your target function here based on x\n",
    "# to compute your target values based on random \n",
    "# values for all weights and biases then you can add\n",
    "# your predicted y's to the print statement\n",
    "    \n",
    "\n",
    "    \n",
    "    "
   ]
  },
  {
   "cell_type": "code",
   "execution_count": null,
   "metadata": {},
   "outputs": [],
   "source": []
  },
  {
   "cell_type": "code",
   "execution_count": null,
   "metadata": {},
   "outputs": [],
   "source": []
  }
 ],
 "metadata": {
  "kernelspec": {
   "display_name": "Python 3",
   "language": "python",
   "name": "python3"
  },
  "language_info": {
   "codemirror_mode": {
    "name": "ipython",
    "version": 3
   },
   "file_extension": ".py",
   "mimetype": "text/x-python",
   "name": "python",
   "nbconvert_exporter": "python",
   "pygments_lexer": "ipython3",
   "version": "3.9.2"
  }
 },
 "nbformat": 4,
 "nbformat_minor": 4
}
