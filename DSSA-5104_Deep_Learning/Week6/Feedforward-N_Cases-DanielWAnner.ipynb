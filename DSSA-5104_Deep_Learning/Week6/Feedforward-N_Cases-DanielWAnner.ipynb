{
 "cells": [
  {
   "cell_type": "code",
   "execution_count": 17,
   "metadata": {},
   "outputs": [
    {
     "name": "stdout",
     "output_type": "stream",
     "text": [
      "Starting ...\n",
      "Number of Features: 5\n",
      "Number of Cases: 22\n"
     ]
    },
    {
     "name": "stdin",
     "output_type": "stream",
     "text": [
      "Enter 1 for ReLU or 2 for Sigmoid:  1\n"
     ]
    },
    {
     "name": "stdout",
     "output_type": "stream",
     "text": [
      "Using ReLU\n",
      "Features :  [[0. 0. 0. 1. 1. 0. 0. 0. 1. 1. 1. 1. 0. 1. 1. 1. 1. 1. 1. 1. 1. 1.]\n",
      " [0. 0. 1. 1. 0. 0. 0. 0. 0. 1. 0. 1. 1. 1. 0. 1. 1. 0. 1. 1. 0. 0.]\n",
      " [1. 1. 0. 1. 1. 0. 0. 0. 1. 0. 0. 0. 1. 1. 0. 1. 0. 0. 1. 0. 0. 1.]\n",
      " [0. 1. 1. 0. 1. 0. 1. 0. 0. 0. 0. 1. 1. 0. 1. 1. 0. 0. 1. 1. 1. 1.]\n",
      " [1. 1. 1. 1. 1. 0. 1. 1. 1. 0. 0. 1. 1. 0. 1. 1. 1. 1. 0. 0. 0. 0.]]\n",
      " Targets :  [[0. 0. 0. 1. 1. 0. 0. 0. 1. 0. 0. 1. 0. 0. 1. 1. 1. 1. 0. 0. 0. 0.]\n",
      " [1. 1. 1. 0. 0. 1. 1. 1. 0. 1. 1. 0. 1. 1. 0. 0. 0. 0. 1. 1. 1. 1.]]\n",
      " Targets predicted :  [[2.7716405  1.15819049 1.49965915 0.         3.20744717 1.18733497\n",
      "  1.77470879 1.47002898 1.53197985 0.86477786 0.58944954 2.56453162\n",
      "  0.         0.         0.         0.         0.         3.23988349\n",
      "  0.18758916 0.         1.72204781 0.        ]\n",
      " [1.0216593  1.10302102 0.51415203 3.01899796 7.38465859 0.02944774\n",
      "  1.49174036 1.55809795 5.77003396 0.1055537  2.36390272 5.38786273\n",
      "  0.         0.         2.11897215 0.2814142  1.13721652 3.51321062\n",
      "  1.24563605 1.79215821 1.52330957 0.        ]]\n"
     ]
    }
   ],
   "source": [
    "import numpy as np\n",
    "\n",
    "def ReLU(x):\n",
    "    return np.maximum(x, 0, x) #ReLU in place, instead of creating a new var this works on the original matrix\n",
    "\n",
    "def sigmoid(x):\n",
    "    return 1.0 / (1.0 + np.exp(-1.0*x)) #sigmoid function\n",
    "\n",
    "def feed_forward(features,w1,b1,w2,b2,w3,b3,method=2):\n",
    "    HL1 = np.matmul(w1,features)\n",
    "    HL1_with_bias = np.add(HL1,b1)\n",
    "    HL1_with_bias_and_activation = np.maximum(HL1_with_bias,np.zeros((4,1)))\n",
    "\n",
    "    HL2 = np.matmul(w2,HL1_with_bias_and_activation)\n",
    "    HL2_with_bias = np.add(HL2,b2)\n",
    "    HL2_with_bias_and_activation = np.maximum(HL2_with_bias,np.zeros((3,1)))\n",
    "    \n",
    "    targets_predicted = np.matmul(w3,HL2_with_bias_and_activation)\n",
    "    targets_predicted = np.add(targets_predicted,b3)\n",
    "    \n",
    "    if method == 1:\n",
    "        # Use ReLU for the output activation\n",
    "        targets_predicted = ReLU(targets_predicted)\n",
    "    else:\n",
    "         # Use sigmoid for the output activation\n",
    "        targets_predicted = sigmoid(targets_predicted)\n",
    "    return targets_predicted\n",
    "    \n",
    "print('Starting ...')\n",
    "\n",
    "## Set up training data\n",
    "## Each row is a case\n",
    "## Columns 0-4 are features\n",
    "## Columns 5 & 6 are targets\n",
    "\n",
    "features_and_targets = np.array( \n",
    "                                   [ [0, 0, 0, 0, 0, 0, 1],\n",
    "                                     [0, 0, 0, 0, 1, 0, 1],\n",
    "                                     [0, 0, 0, 1, 1, 0, 1],\n",
    "                                     [0, 0, 1, 1, 1, 0, 1],\n",
    "                                     [0, 1, 1, 1, 1, 0, 1],\n",
    "                                     [1, 1, 1, 1, 0, 0, 1],\n",
    "                                     [1, 1, 1, 0, 0, 0, 1],\n",
    "                                     [1, 1, 0, 0, 0, 0, 1],\n",
    "                                     [1, 0, 0, 0, 0, 0, 1],\n",
    "                                     [1, 0, 0, 1, 0, 0, 1],\n",
    "                                     [1, 0, 1, 1, 0, 0, 1],\n",
    "                                     [1, 1, 0, 1, 0, 0, 1],\n",
    "                                     [0, 1, 0, 1, 1, 0, 1],\n",
    "                                     [0, 0, 1, 0, 1, 0, 1],\n",
    "                                     [1, 0, 1, 1, 1, 1, 0],\n",
    "                                     [1, 1, 0, 1, 1, 1, 0],\n",
    "                                     [1, 0, 1, 0, 1, 1, 0],\n",
    "                                     [1, 0, 0, 0, 1, 1, 0],\n",
    "                                     [1, 1, 0, 0, 1, 1, 0],\n",
    "                                     [1, 1, 1, 0, 1, 1, 0],\n",
    "                                     [1, 1, 1, 1, 1, 1, 0],\n",
    "                                     [1, 0, 0, 1, 1, 1, 0]  ]\n",
    "                           , dtype=float)\n",
    "\n",
    "# shuffle our cases\n",
    "np.random.shuffle(features_and_targets)\n",
    "\n",
    "features = np.transpose(features_and_targets[:,0:5])\n",
    "targets_observed = np.transpose(features_and_targets[:,5:7])\n",
    "\n",
    "number_of_features,number_of_cases = features.shape\n",
    "print(\"Number of Features: %s\" % number_of_features)\n",
    "print(\"Number of Cases: %s\" % number_of_cases)\n",
    "    \n",
    "#Set initial weights and biases\n",
    "np.random.seed(1)  \n",
    "weights_1 = np.random.randn(4,5)\n",
    "biases_1 = np.random.randn(4,number_of_cases)\n",
    "\n",
    "weights_2 = np.random.randn(3,4)\n",
    "biases_2 = np.random.randn(3,number_of_cases)\n",
    "\n",
    "weights_3 = np.random.randn(2,3)\n",
    "biases_3 = np.random.randn(2,number_of_cases)\n",
    "# You need to set your initil weights and biases here\n",
    "\n",
    "def __main__():\n",
    "    user_chose = False\n",
    "    user_method = 2\n",
    "    while not user_chose:\n",
    "        inp = input(\"Enter 1 for ReLU or 2 for Sigmoid: \")\n",
    "        if inp == \"1\":\n",
    "            print(\"Using ReLU\")\n",
    "            user_method = 1\n",
    "            user_chose = True\n",
    "        elif inp == \"2\":\n",
    "            print(\"Using Sigmoid\")\n",
    "            user_method = 2\n",
    "            user_chose = True\n",
    "        else:\n",
    "            print(\"You must choose between 1 (ReLU) or 2 (Sigmoid)\")\n",
    "            \n",
    "    Targets_Predicted = feed_forward(features,weights_1,biases_1,\n",
    "                                          weights_2,biases_2,\n",
    "                                          weights_3,biases_3,\n",
    "                                          method=user_method)\n",
    "\n",
    "    print('Features : %s' % features)\n",
    "    print('Targets : %s' % targets_observed)\n",
    "    print('Targets predicted : %s' % Targets_Predicted)\n",
    "    \n",
    "#Lets run it the first time, this time we will choose ReLU\n",
    "__main__()\n",
    "    \n",
    "    "
   ]
  },
  {
   "cell_type": "code",
   "execution_count": 19,
   "metadata": {},
   "outputs": [
    {
     "name": "stdin",
     "output_type": "stream",
     "text": [
      "Enter 1 for ReLU or 2 for Sigmoid:  2\n"
     ]
    },
    {
     "name": "stdout",
     "output_type": "stream",
     "text": [
      "Using Sigmoid\n",
      "Features :  [[0. 0. 0. 1. 1. 0. 0. 0. 1. 1. 1. 1. 0. 1. 1. 1. 1. 1. 1. 1. 1. 1.]\n",
      " [0. 0. 1. 1. 0. 0. 0. 0. 0. 1. 0. 1. 1. 1. 0. 1. 1. 0. 1. 1. 0. 0.]\n",
      " [1. 1. 0. 1. 1. 0. 0. 0. 1. 0. 0. 0. 1. 1. 0. 1. 0. 0. 1. 0. 0. 1.]\n",
      " [0. 1. 1. 0. 1. 0. 1. 0. 0. 0. 0. 1. 1. 0. 1. 1. 0. 0. 1. 1. 1. 1.]\n",
      " [1. 1. 1. 1. 1. 0. 1. 1. 1. 0. 0. 1. 1. 0. 1. 1. 1. 1. 0. 0. 0. 0.]]\n",
      " Targets :  [[0. 0. 0. 1. 1. 0. 0. 0. 1. 0. 0. 1. 0. 0. 1. 1. 1. 1. 0. 0. 0. 0.]\n",
      " [1. 1. 1. 0. 0. 1. 1. 1. 0. 1. 1. 0. 1. 1. 0. 0. 0. 0. 1. 1. 1. 1.]]\n",
      " Targets predicted :  [[0.94112395 0.76100376 0.81752363 0.38097733 0.96111357 0.76626409\n",
      "  0.85504228 0.81306179 0.82229581 0.70365792 0.64323884 0.92854372\n",
      "  0.20883672 0.1898681  0.40750777 0.32694636 0.28221063 0.96230788\n",
      "  0.54676025 0.20707037 0.84839242 0.38175414]\n",
      " [0.73529568 0.75082573 0.6257793  0.95342505 0.99937968 0.5073614\n",
      "  0.81633935 0.82608025 0.99689005 0.52636395 0.91403296 0.99544907\n",
      "  0.36684539 0.44051083 0.89273354 0.5698929  0.75716822 0.97106132\n",
      "  0.77654353 0.85719168 0.82102531 0.25213498]]\n"
     ]
    }
   ],
   "source": [
    "#Lets run it again, this time we will choose sigmoid\n",
    "__main__()"
   ]
  }
 ],
 "metadata": {
  "kernelspec": {
   "display_name": "Python 3",
   "language": "python",
   "name": "python3"
  },
  "language_info": {
   "codemirror_mode": {
    "name": "ipython",
    "version": 3
   },
   "file_extension": ".py",
   "mimetype": "text/x-python",
   "name": "python",
   "nbconvert_exporter": "python",
   "pygments_lexer": "ipython3",
   "version": "3.9.2"
  }
 },
 "nbformat": 4,
 "nbformat_minor": 4
}
