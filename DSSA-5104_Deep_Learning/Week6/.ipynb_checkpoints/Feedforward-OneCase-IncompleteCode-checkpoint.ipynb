{
 "cells": [
  {
   "cell_type": "code",
   "execution_count": null,
   "metadata": {},
   "outputs": [],
   "source": [
    "import numpy as np\n",
    "\n",
    "\n",
    "def feed_forward(features,w1,b1,w2,b2,w3,b3):\n",
    "    \n",
    "# You should write your target code function in this space\n",
    "#====================================================\n",
    "\n",
    "    return targets_predicted\n",
    "\n",
    "#=====================================================\n",
    "    \n",
    "print('Starting ...')\n",
    "\n",
    "## Set up training data with just one case\n",
    "\n",
    "features = np.array([[0], \n",
    "                     [0], \n",
    "                     [0], \n",
    "                     [0], \n",
    "                     [0]])\n",
    "targets_observed = np.array([0,1])\n",
    "number_of_features,number_of_cases = 5,1\n",
    "    \n",
    "#Set initial weights and biases\n",
    "# You need to do this\n",
    "    \n",
    "\n",
    "\n",
    "Targets_Predicted = feed_forward(features,weights_1,biases_1,\n",
    "                                      weights_2,biases_2,\n",
    "                                      weights_3,biases_3)\n",
    "\n",
    "print('Features : ',features)\n",
    "print(' Targets : ', targets_observed)\n",
    "print(' Targets predicted : ', Targets_Predicted)\n",
    "    \n",
    "# Call your target function here based on x\n",
    "# to compute your target values based on random \n",
    "# values for all weights and biases then you can add\n",
    "# your predicted y's to the print statement\n",
    "    \n",
    "\n",
    "    \n",
    "    "
   ]
  },
  {
   "cell_type": "code",
   "execution_count": null,
   "metadata": {},
   "outputs": [],
   "source": []
  },
  {
   "cell_type": "code",
   "execution_count": null,
   "metadata": {},
   "outputs": [],
   "source": []
  }
 ],
 "metadata": {
  "kernelspec": {
   "display_name": "Python 3",
   "language": "python",
   "name": "python3"
  },
  "language_info": {
   "codemirror_mode": {
    "name": "ipython",
    "version": 3
   },
   "file_extension": ".py",
   "mimetype": "text/x-python",
   "name": "python",
   "nbconvert_exporter": "python",
   "pygments_lexer": "ipython3",
   "version": "3.8.1"
  }
 },
 "nbformat": 4,
 "nbformat_minor": 2
}
