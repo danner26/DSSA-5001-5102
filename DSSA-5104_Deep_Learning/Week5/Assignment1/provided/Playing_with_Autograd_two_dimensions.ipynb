{
 "cells": [
  {
   "cell_type": "code",
   "execution_count": 1,
   "metadata": {},
   "outputs": [],
   "source": [
    "import autograd.numpy as np\n",
    "from autograd import grad\n",
    "import matplotlib.pyplot as plt"
   ]
  },
  {
   "cell_type": "code",
   "execution_count": 4,
   "metadata": {},
   "outputs": [
    {
     "name": "stdout",
     "output_type": "stream",
     "text": [
      "At the coordinates  5.0 5.0\n",
      "the slopes in the x and y directions are 10.0  and  10.0\n"
     ]
    }
   ],
   "source": [
    "# Playing with autograd\n",
    "\n",
    "def model(x,y):\n",
    "    return x**2+y**2\n",
    "\n",
    "d_by_dx = grad(model,0)\n",
    "d_by_dy = grad(model,1)\n",
    "\n",
    "x0 = 5.0\n",
    "y0 = 5.0\n",
    "\n",
    "print('At the coordinates ',x0,y0)\n",
    "\n",
    "print('the slopes in the x and y directions are', d_by_dx(x0,y0),' and ', d_by_dy(x0,y0))\n"
   ]
  },
  {
   "cell_type": "code",
   "execution_count": null,
   "metadata": {},
   "outputs": [],
   "source": []
  }
 ],
 "metadata": {
  "kernelspec": {
   "display_name": "Python 3",
   "language": "python",
   "name": "python3"
  },
  "language_info": {
   "codemirror_mode": {
    "name": "ipython",
    "version": 3
   },
   "file_extension": ".py",
   "mimetype": "text/x-python",
   "name": "python",
   "nbconvert_exporter": "python",
   "pygments_lexer": "ipython3",
   "version": "3.7.3"
  }
 },
 "nbformat": 4,
 "nbformat_minor": 2
}
