{
 "cells": [
  {
   "cell_type": "code",
   "execution_count": 1,
   "metadata": {},
   "outputs": [],
   "source": [
    "import requests\n",
    "import pandas as pd\n",
    "import sqlite3\n",
    "import lxml.html"
   ]
  },
  {
   "cell_type": "code",
   "execution_count": 2,
   "metadata": {},
   "outputs": [],
   "source": [
    "r = requests.get(\"https://datatables.net/examples/data_sources/dom\")"
   ]
  },
  {
   "cell_type": "code",
   "execution_count": 3,
   "metadata": {},
   "outputs": [],
   "source": [
    "html               = lxml.html.fromstring(r.text)\n",
    "sampledata_table   = html.get_element_by_id(\"example\")\n",
    "table_body         = sampledata_table.getchildren()[1]"
   ]
  },
  {
   "cell_type": "code",
   "execution_count": 4,
   "metadata": {},
   "outputs": [
    {
     "data": {
      "text/plain": [
       "<Element thead at 0x7f343c2b5360>"
      ]
     },
     "execution_count": 4,
     "metadata": {},
     "output_type": "execute_result"
    }
   ],
   "source": [
    "sampledata_table.getchildren()[0]"
   ]
  },
  {
   "cell_type": "code",
   "execution_count": 5,
   "metadata": {},
   "outputs": [
    {
     "data": {
      "text/plain": [
       "<Element tbody at 0x7f343c2b5630>"
      ]
     },
     "execution_count": 5,
     "metadata": {},
     "output_type": "execute_result"
    }
   ],
   "source": [
    "sampledata_table.getchildren()[1]"
   ]
  },
  {
   "cell_type": "code",
   "execution_count": 6,
   "metadata": {},
   "outputs": [
    {
     "data": {
      "text/plain": [
       "<Element tfoot at 0x7f343c2c0540>"
      ]
     },
     "execution_count": 6,
     "metadata": {},
     "output_type": "execute_result"
    }
   ],
   "source": [
    "sampledata_table.getchildren()[2]"
   ]
  },
  {
   "cell_type": "code",
   "execution_count": 7,
   "metadata": {},
   "outputs": [
    {
     "data": {
      "text/plain": [
       "'\\n\\t\\t\\t\\t\\t\\t\\t\\tTiger Nixon\\n\\t\\t\\t\\t\\t\\t\\t\\tSystem Architect\\n\\t\\t\\t\\t\\t\\t\\t\\tEdinburgh\\n\\t\\t\\t\\t\\t\\t\\t\\t61\\n\\t\\t\\t\\t\\t\\t\\t\\t2011/04/25\\n\\t\\t\\t\\t\\t\\t\\t\\t$320,800\\n\\t\\t\\t\\t\\t\\t\\t'"
      ]
     },
     "execution_count": 7,
     "metadata": {},
     "output_type": "execute_result"
    }
   ],
   "source": [
    "table_body.getchildren()[0].text_content()"
   ]
  },
  {
   "cell_type": "code",
   "execution_count": 8,
   "metadata": {},
   "outputs": [],
   "source": [
    "data = {\n",
    "    \"name\": [],\n",
    "    \"position\": [],\n",
    "    \"office\": [],\n",
    "    \"age\": [],\n",
    "    \"start_date\": [],\n",
    "    \"salary\": []\n",
    "}\n",
    "\n",
    "for row in table_body.getchildren():\n",
    "    cells = row.getchildren()\n",
    "    data[\"name\"].append(cells[0].text_content().strip())\n",
    "    data[\"position\"].append(cells[1].text_content().strip())\n",
    "    data[\"office\"].append(cells[2].text_content().strip())\n",
    "    data[\"age\"].append(cells[3].text_content().strip())\n",
    "    data[\"start_date\"].append(cells[4].text_content().strip())\n",
    "    data[\"salary\"].append(cells[5].text_content().strip())\n",
    "\n",
    "df = pd.DataFrame(data)"
   ]
  },
  {
   "cell_type": "code",
   "execution_count": 9,
   "metadata": {},
   "outputs": [
    {
     "name": "stdout",
     "output_type": "stream",
     "text": [
      "Pandas(Index=0, name='Tiger Nixon', position='System Architect', office='Edinburgh', age='61', start_date='2011/04/25', salary=320800.0)\n",
      "Pandas(Index=3, name='Cedric Kelly', position='Senior Javascript Developer', office='Edinburgh', age='22', start_date='2012/03/29', salary=433060.0)\n",
      "Pandas(Index=5, name='Brielle Williamson', position='Integration Specialist', office='New York', age='61', start_date='2012/12/02', salary=372000.0)\n",
      "Pandas(Index=7, name='Rhona Davidson', position='Integration Specialist', office='Tokyo', age='55', start_date='2010/10/14', salary=327900.0)\n",
      "Pandas(Index=8, name='Colleen Hurst', position='Javascript Developer', office='San Francisco', age='39', start_date='2009/09/15', salary=205500.0)\n",
      "Pandas(Index=11, name='Quinn Flynn', position='Support Lead', office='Edinburgh', age='22', start_date='2013/03/03', salary=342000.0)\n",
      "Pandas(Index=12, name='Charde Marshall', position='Regional Director', office='San Francisco', age='36', start_date='2008/10/16', salary=470600.0)\n",
      "Pandas(Index=13, name='Haley Kennedy', position='Senior Marketing Designer', office='London', age='43', start_date='2012/12/18', salary=313500.0)\n",
      "Pandas(Index=14, name='Tatyana Fitzpatrick', position='Regional Director', office='London', age='19', start_date='2010/03/17', salary=385750.0)\n",
      "Pandas(Index=16, name='Paul Byrd', position='Chief Financial Officer (CFO)', office='New York', age='64', start_date='2010/06/09', salary=725000.0)\n",
      "Pandas(Index=17, name='Gloria Little', position='Systems Administrator', office='New York', age='59', start_date='2009/04/10', salary=237500.0)\n",
      "Pandas(Index=19, name='Dai Rios', position='Personnel Lead', office='Edinburgh', age='35', start_date='2012/09/26', salary=217500.0)\n",
      "Pandas(Index=20, name='Jenette Caldwell', position='Development Lead', office='New York', age='30', start_date='2011/09/03', salary=345000.0)\n",
      "Pandas(Index=21, name='Yuri Berry', position='Chief Marketing Officer (CMO)', office='New York', age='40', start_date='2009/06/25', salary=675000.0)\n",
      "Pandas(Index=24, name='Angelica Ramos', position='Chief Executive Officer (CEO)', office='London', age='47', start_date='2009/10/09', salary=1200000.0)\n",
      "Pandas(Index=26, name='Jennifer Chang', position='Regional Director', office='Singapore', age='28', start_date='2010/11/14', salary=357650.0)\n",
      "Pandas(Index=27, name='Brenden Wagner', position='Software Engineer', office='San Francisco', age='28', start_date='2011/06/07', salary=206850.0)\n",
      "Pandas(Index=28, name='Fiona Green', position='Chief Operating Officer (COO)', office='San Francisco', age='48', start_date='2010/03/11', salary=850000.0)\n",
      "Pandas(Index=33, name='Gavin Cortez', position='Team Leader', office='San Francisco', age='22', start_date='2008/10/26', salary=235500.0)\n",
      "Pandas(Index=34, name='Martena Mccray', position='Post-Sales support', office='Edinburgh', age='46', start_date='2011/03/09', salary=324050.0)\n",
      "Pandas(Index=38, name='Vivian Harrell', position='Financial Controller', office='San Francisco', age='62', start_date='2009/02/14', salary=452500.0)\n",
      "Pandas(Index=40, name='Jackson Bradshaw', position='Director', office='New York', age='65', start_date='2008/09/26', salary=645750.0)\n",
      "Pandas(Index=41, name='Olivia Liang', position='Support Engineer', office='Singapore', age='64', start_date='2011/02/03', salary=234500.0)\n",
      "Pandas(Index=51, name='Hermione Butler', position='Regional Director', office='London', age='47', start_date='2011/03/21', salary=356250.0)\n"
     ]
    }
   ],
   "source": [
    "df[df.columns[5:]] = df[df.columns[5:]].replace('[\\$,]', '', regex=True).astype(float)\n",
    "gt_200k_employees = df[df.salary > 200000]\n",
    "for row in gt_200k_employees.itertuples():\n",
    "    print(row)"
   ]
  },
  {
   "cell_type": "code",
   "execution_count": 10,
   "metadata": {},
   "outputs": [],
   "source": [
    "db = sqlite3.connect(\":memory:\")\n",
    "cursor = db.cursor()\n",
    "cursor.execute(\"\"\"\n",
    "    CREATE TABLE EMPLOYEES_200K(NAME, POSITION, OFFICE, AGE, START_DATE, SALARY)\n",
    "\"\"\")\n",
    "\n",
    "for row in gt_200k_employees.itertuples():\n",
    "    insert_sql_syntax = \"\"\"\n",
    "        INSERT INTO EMPLOYEES_200K(NAME, POSITION, OFFICE, AGE, START_DATE, SALARY)\n",
    "        VALUES (?,?,?,?,?,?)\n",
    "    \"\"\"\n",
    "    cursor.execute(insert_sql_syntax, row[1:])\n",
    "\n",
    "db.commit()\n",
    "\n",
    "#db.close()"
   ]
  },
  {
   "cell_type": "code",
   "execution_count": 11,
   "metadata": {},
   "outputs": [
    {
     "name": "stdout",
     "output_type": "stream",
     "text": [
      "('Tiger Nixon', 'System Architect', 'Edinburgh', '61', '2011/04/25', 320800.0)\n",
      "('Cedric Kelly', 'Senior Javascript Developer', 'Edinburgh', '22', '2012/03/29', 433060.0)\n",
      "('Brielle Williamson', 'Integration Specialist', 'New York', '61', '2012/12/02', 372000.0)\n",
      "('Rhona Davidson', 'Integration Specialist', 'Tokyo', '55', '2010/10/14', 327900.0)\n",
      "('Colleen Hurst', 'Javascript Developer', 'San Francisco', '39', '2009/09/15', 205500.0)\n",
      "('Quinn Flynn', 'Support Lead', 'Edinburgh', '22', '2013/03/03', 342000.0)\n",
      "('Charde Marshall', 'Regional Director', 'San Francisco', '36', '2008/10/16', 470600.0)\n",
      "('Haley Kennedy', 'Senior Marketing Designer', 'London', '43', '2012/12/18', 313500.0)\n",
      "('Tatyana Fitzpatrick', 'Regional Director', 'London', '19', '2010/03/17', 385750.0)\n",
      "('Paul Byrd', 'Chief Financial Officer (CFO)', 'New York', '64', '2010/06/09', 725000.0)\n",
      "('Gloria Little', 'Systems Administrator', 'New York', '59', '2009/04/10', 237500.0)\n",
      "('Dai Rios', 'Personnel Lead', 'Edinburgh', '35', '2012/09/26', 217500.0)\n",
      "('Jenette Caldwell', 'Development Lead', 'New York', '30', '2011/09/03', 345000.0)\n",
      "('Yuri Berry', 'Chief Marketing Officer (CMO)', 'New York', '40', '2009/06/25', 675000.0)\n",
      "('Angelica Ramos', 'Chief Executive Officer (CEO)', 'London', '47', '2009/10/09', 1200000.0)\n",
      "('Jennifer Chang', 'Regional Director', 'Singapore', '28', '2010/11/14', 357650.0)\n",
      "('Brenden Wagner', 'Software Engineer', 'San Francisco', '28', '2011/06/07', 206850.0)\n",
      "('Fiona Green', 'Chief Operating Officer (COO)', 'San Francisco', '48', '2010/03/11', 850000.0)\n",
      "('Gavin Cortez', 'Team Leader', 'San Francisco', '22', '2008/10/26', 235500.0)\n",
      "('Martena Mccray', 'Post-Sales support', 'Edinburgh', '46', '2011/03/09', 324050.0)\n",
      "('Vivian Harrell', 'Financial Controller', 'San Francisco', '62', '2009/02/14', 452500.0)\n",
      "('Jackson Bradshaw', 'Director', 'New York', '65', '2008/09/26', 645750.0)\n",
      "('Olivia Liang', 'Support Engineer', 'Singapore', '64', '2011/02/03', 234500.0)\n",
      "('Hermione Butler', 'Regional Director', 'London', '47', '2011/03/21', 356250.0)\n"
     ]
    }
   ],
   "source": [
    "for row in cursor.execute(\"\"\"\n",
    "    SELECT * FROM EMPLOYEES_200K\n",
    "\"\"\"):\n",
    "    print(row)"
   ]
  }
 ],
 "metadata": {
  "kernelspec": {
   "display_name": "Python 3",
   "language": "python",
   "name": "python3"
  },
  "language_info": {
   "codemirror_mode": {
    "name": "ipython",
    "version": 3
   },
   "file_extension": ".py",
   "mimetype": "text/x-python",
   "name": "python",
   "nbconvert_exporter": "python",
   "pygments_lexer": "ipython3",
   "version": "3.8.5"
  }
 },
 "nbformat": 4,
 "nbformat_minor": 4
}
